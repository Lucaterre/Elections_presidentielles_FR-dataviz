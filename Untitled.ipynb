{
 "cells": [
  {
   "cell_type": "markdown",
   "metadata": {},
   "source": [
    "# Projet de datavisualisations pour les élections présidentielles\n",
    "\n",
    "Réalisé par Edward Gray, Jean-Damien Généro et Lucas Terriel \n",
    "dans le cadre du cours de Data Science du master Technologies numériques appliquées à l'histoire\n",
    "de l'Ecole nationale des chartes\n",
    "\n",
    "## Sommaire \n",
    "\n",
    "1. Nettoyage des données et requêtes\n",
    "\n",
    "2. Essais de visualisations"
   ]
  },
  {
   "cell_type": "code",
   "execution_count": null,
   "metadata": {},
   "outputs": [],
   "source": []
  }
 ],
 "metadata": {
  "kernelspec": {
   "display_name": "Python 3",
   "language": "python",
   "name": "python3"
  },
  "language_info": {
   "codemirror_mode": {
    "name": "ipython",
    "version": 3
   },
   "file_extension": ".py",
   "mimetype": "text/x-python",
   "name": "python",
   "nbconvert_exporter": "python",
   "pygments_lexer": "ipython3",
   "version": "3.7.7"
  }
 },
 "nbformat": 4,
 "nbformat_minor": 4
}
